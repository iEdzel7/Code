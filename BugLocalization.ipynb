{
 "cells": [
  {
   "cell_type": "code",
   "execution_count": 3,
   "metadata": {},
   "outputs": [
    {
     "ename": "FileNotFoundError",
     "evalue": "[WinError 3] The system cannot find the path specified: 'C:/Users/Edzel Armengol/Desktop/GITHUB/Code/stable_snippets_files'",
     "output_type": "error",
     "traceback": [
      "\u001b[1;31m---------------------------------------------------------------------------\u001b[0m",
      "\u001b[1;31mFileNotFoundError\u001b[0m                         Traceback (most recent call last)",
      "Cell \u001b[1;32mIn[3], line 33\u001b[0m\n\u001b[0;32m     30\u001b[0m buggy_data \u001b[38;5;241m=\u001b[39m read_python_files(buggy_dir, \u001b[38;5;124m'\u001b[39m\u001b[38;5;124mBuggy\u001b[39m\u001b[38;5;124m'\u001b[39m, \u001b[38;5;241m5000\u001b[39m)\n\u001b[0;32m     32\u001b[0m \u001b[38;5;66;03m# Read 10,000 stable Python files\u001b[39;00m\n\u001b[1;32m---> 33\u001b[0m stable_data \u001b[38;5;241m=\u001b[39m \u001b[43mread_python_files\u001b[49m\u001b[43m(\u001b[49m\u001b[43mstable_dir\u001b[49m\u001b[43m,\u001b[49m\u001b[43m \u001b[49m\u001b[38;5;124;43m'\u001b[39;49m\u001b[38;5;124;43mNon-Buggy\u001b[39;49m\u001b[38;5;124;43m'\u001b[39;49m\u001b[43m,\u001b[49m\u001b[43m \u001b[49m\u001b[38;5;241;43m5000\u001b[39;49m\u001b[43m)\u001b[49m\n\u001b[0;32m     35\u001b[0m \u001b[38;5;66;03m# Combine the data\u001b[39;00m\n\u001b[0;32m     36\u001b[0m combined_data \u001b[38;5;241m=\u001b[39m buggy_data \u001b[38;5;241m+\u001b[39m stable_data\n",
      "Cell \u001b[1;32mIn[3], line 15\u001b[0m, in \u001b[0;36mread_python_files\u001b[1;34m(directory, category, limit)\u001b[0m\n\u001b[0;32m     13\u001b[0m data \u001b[38;5;241m=\u001b[39m []\n\u001b[0;32m     14\u001b[0m count \u001b[38;5;241m=\u001b[39m \u001b[38;5;241m0\u001b[39m\n\u001b[1;32m---> 15\u001b[0m \u001b[38;5;28;01mfor\u001b[39;00m filename \u001b[38;5;129;01min\u001b[39;00m \u001b[43mos\u001b[49m\u001b[38;5;241;43m.\u001b[39;49m\u001b[43mlistdir\u001b[49m\u001b[43m(\u001b[49m\u001b[43mdirectory\u001b[49m\u001b[43m)\u001b[49m:\n\u001b[0;32m     16\u001b[0m     \u001b[38;5;28;01mif\u001b[39;00m filename\u001b[38;5;241m.\u001b[39mendswith(\u001b[38;5;124m'\u001b[39m\u001b[38;5;124m.py\u001b[39m\u001b[38;5;124m'\u001b[39m):\n\u001b[0;32m     17\u001b[0m         file_path \u001b[38;5;241m=\u001b[39m os\u001b[38;5;241m.\u001b[39mpath\u001b[38;5;241m.\u001b[39mjoin(directory, filename)\n",
      "\u001b[1;31mFileNotFoundError\u001b[0m: [WinError 3] The system cannot find the path specified: 'C:/Users/Edzel Armengol/Desktop/GITHUB/Code/stable_snippets_files'"
     ]
    }
   ],
   "source": [
    "import os\n",
    "import csv\n",
    "\n",
    "# Define the directories containing the Python files\n",
    "buggy_dir = \"C:/Users/Edzel Armengol/Desktop/GITHUB/Code/buggy_dataset/buggy_snippets_files\"\n",
    "stable_dir = \"C:/Users/Edzel Armengol/Desktop/GITHUB/Code/stable_snippets_files\"\n",
    "\n",
    "# Define the output CSV file path\n",
    "output_csv = \"C:/Users/Edzel Armengol/Desktop/GITHUB/Code/combined_snippets.csv\"\n",
    "\n",
    "# Function to read Python files from a directory\n",
    "def read_python_files(directory, category, limit):\n",
    "    data = []\n",
    "    count = 0\n",
    "    for filename in os.listdir(directory):\n",
    "        if filename.endswith('.py'):\n",
    "            file_path = os.path.join(directory, filename)\n",
    "            try:\n",
    "                with open(file_path, 'r', encoding='utf-8', errors='ignore') as file:\n",
    "                    code = file.read()\n",
    "                    data.append([code, category])\n",
    "                    count += 1\n",
    "                    if count >= limit:\n",
    "                        break\n",
    "            except Exception as e:\n",
    "                print(f\"Skipping {filename} due to error: {e}\")  # Log the file causing issues\n",
    "    return data\n",
    "\n",
    "# Read 10,000 buggy Python files\n",
    "buggy_data = read_python_files(buggy_dir, 'Buggy', 5000)\n",
    "\n",
    "# Read 10,000 stable Python files\n",
    "stable_data = read_python_files(stable_dir, 'Non-Buggy', 5000)\n",
    "\n",
    "# Combine the data\n",
    "combined_data = buggy_data + stable_data\n",
    "\n",
    "# Write the combined data to a CSV file\n",
    "with open(output_csv, 'w', newline='', encoding='utf-8') as file:\n",
    "    writer = csv.writer(file)\n",
    "    writer.writerow([\"Code\", \"Category\"])  # Write the header\n",
    "    writer.writerows(combined_data)  # Write the data\n",
    "\n",
    "print(f\"CSV file created successfully at: {output_csv}\")\n"
   ]
  },
  {
   "cell_type": "code",
   "execution_count": 12,
   "metadata": {},
   "outputs": [
    {
     "name": "stdout",
     "output_type": "stream",
     "text": [
      "✅ Tokenizer saved as 'BugTokenizer.pkl'\n",
      "Epoch 1/8\n"
     ]
    },
    {
     "name": "stderr",
     "output_type": "stream",
     "text": [
      "c:\\Users\\Edzel Armengol\\AppData\\Local\\Programs\\Python\\Python312\\Lib\\site-packages\\keras\\src\\layers\\core\\embedding.py:90: UserWarning: Argument `input_length` is deprecated. Just remove it.\n",
      "  warnings.warn(\n",
      "c:\\Users\\Edzel Armengol\\AppData\\Local\\Programs\\Python\\Python312\\Lib\\site-packages\\keras\\src\\layers\\activations\\leaky_relu.py:41: UserWarning: Argument `alpha` is deprecated. Use `negative_slope` instead.\n",
      "  warnings.warn(\n"
     ]
    },
    {
     "name": "stdout",
     "output_type": "stream",
     "text": [
      "\u001b[1m63/63\u001b[0m \u001b[32m━━━━━━━━━━━━━━━━━━━━\u001b[0m\u001b[37m\u001b[0m \u001b[1m0s\u001b[0m 130ms/step - accuracy: 0.5128 - loss: 0.6777Epoch 1: Learning Rate = 0.001000\n",
      "\u001b[1m63/63\u001b[0m \u001b[32m━━━━━━━━━━━━━━━━━━━━\u001b[0m\u001b[37m\u001b[0m \u001b[1m12s\u001b[0m 149ms/step - accuracy: 0.5136 - loss: 0.6766 - val_accuracy: 0.6032 - val_loss: 0.5633\n",
      "Epoch 2/8\n",
      "\u001b[1m63/63\u001b[0m \u001b[32m━━━━━━━━━━━━━━━━━━━━\u001b[0m\u001b[37m\u001b[0m \u001b[1m0s\u001b[0m 136ms/step - accuracy: 0.5881 - loss: 0.5562Epoch 2: Learning Rate = 0.001000\n",
      "\u001b[1m63/63\u001b[0m \u001b[32m━━━━━━━━━━━━━━━━━━━━\u001b[0m\u001b[37m\u001b[0m \u001b[1m9s\u001b[0m 149ms/step - accuracy: 0.5881 - loss: 0.5563 - val_accuracy: 0.6032 - val_loss: 0.5627\n",
      "Epoch 3/8\n",
      "\u001b[1m63/63\u001b[0m \u001b[32m━━━━━━━━━━━━━━━━━━━━\u001b[0m\u001b[37m\u001b[0m \u001b[1m0s\u001b[0m 124ms/step - accuracy: 0.6086 - loss: 0.5783Epoch 3: Learning Rate = 0.001000\n",
      "\u001b[1m63/63\u001b[0m \u001b[32m━━━━━━━━━━━━━━━━━━━━\u001b[0m\u001b[37m\u001b[0m \u001b[1m8s\u001b[0m 135ms/step - accuracy: 0.6086 - loss: 0.5782 - val_accuracy: 0.5873 - val_loss: 0.5657\n",
      "Epoch 4/8\n",
      "\u001b[1m63/63\u001b[0m \u001b[32m━━━━━━━━━━━━━━━━━━━━\u001b[0m\u001b[37m\u001b[0m \u001b[1m0s\u001b[0m 119ms/step - accuracy: 0.6044 - loss: 0.5645Epoch 4: Learning Rate = 0.001000\n",
      "\u001b[1m63/63\u001b[0m \u001b[32m━━━━━━━━━━━━━━━━━━━━\u001b[0m\u001b[37m\u001b[0m \u001b[1m8s\u001b[0m 131ms/step - accuracy: 0.6044 - loss: 0.5644 - val_accuracy: 0.6032 - val_loss: 0.5629\n",
      "Epoch 5/8\n",
      "\u001b[1m63/63\u001b[0m \u001b[32m━━━━━━━━━━━━━━━━━━━━\u001b[0m\u001b[37m\u001b[0m \u001b[1m0s\u001b[0m 123ms/step - accuracy: 0.6014 - loss: 0.5530Epoch 5: Learning Rate = 0.001000\n",
      "\u001b[1m63/63\u001b[0m \u001b[32m━━━━━━━━━━━━━━━━━━━━\u001b[0m\u001b[37m\u001b[0m \u001b[1m9s\u001b[0m 135ms/step - accuracy: 0.6011 - loss: 0.5531 - val_accuracy: 0.5873 - val_loss: 0.5635\n",
      "Epoch 6/8\n",
      "\u001b[1m63/63\u001b[0m \u001b[32m━━━━━━━━━━━━━━━━━━━━\u001b[0m\u001b[37m\u001b[0m \u001b[1m0s\u001b[0m 124ms/step - accuracy: 0.6117 - loss: 0.5597Epoch 6: Learning Rate = 0.001000\n",
      "\u001b[1m63/63\u001b[0m \u001b[32m━━━━━━━━━━━━━━━━━━━━\u001b[0m\u001b[37m\u001b[0m \u001b[1m9s\u001b[0m 136ms/step - accuracy: 0.6117 - loss: 0.5597 - val_accuracy: 0.6032 - val_loss: 0.5631\n",
      "Epoch 7/8\n",
      "\u001b[1m63/63\u001b[0m \u001b[32m━━━━━━━━━━━━━━━━━━━━\u001b[0m\u001b[37m\u001b[0m \u001b[1m0s\u001b[0m 116ms/step - accuracy: 0.6079 - loss: 0.5576Epoch 7: Learning Rate = 0.001000\n",
      "\u001b[1m63/63\u001b[0m \u001b[32m━━━━━━━━━━━━━━━━━━━━\u001b[0m\u001b[37m\u001b[0m \u001b[1m8s\u001b[0m 129ms/step - accuracy: 0.6079 - loss: 0.5576 - val_accuracy: 0.5873 - val_loss: 0.5637\n",
      "Epoch 8/8\n",
      "\u001b[1m63/63\u001b[0m \u001b[32m━━━━━━━━━━━━━━━━━━━━\u001b[0m\u001b[37m\u001b[0m \u001b[1m0s\u001b[0m 116ms/step - accuracy: 0.5824 - loss: 0.5502Epoch 8: Learning Rate = 0.001000\n",
      "\u001b[1m63/63\u001b[0m \u001b[32m━━━━━━━━━━━━━━━━━━━━\u001b[0m\u001b[37m\u001b[0m \u001b[1m8s\u001b[0m 128ms/step - accuracy: 0.5825 - loss: 0.5503 - val_accuracy: 0.6032 - val_loss: 0.5625\n"
     ]
    },
    {
     "name": "stderr",
     "output_type": "stream",
     "text": [
      "WARNING:absl:You are saving your model as an HDF5 file via `model.save()` or `keras.saving.save_model(model)`. This file format is considered legacy. We recommend using instead the native Keras format, e.g. `model.save('my_model.keras')` or `keras.saving.save_model(model, 'my_model.keras')`. \n"
     ]
    },
    {
     "name": "stdout",
     "output_type": "stream",
     "text": [
      "✅ Model saved as 'bug_localization_model.h5'\n",
      "\u001b[1m16/16\u001b[0m \u001b[32m━━━━━━━━━━━━━━━━━━━━\u001b[0m\u001b[37m\u001b[0m \u001b[1m1s\u001b[0m 47ms/step - accuracy: 0.5901 - loss: 0.5751\n",
      "Test Accuracy: 60.32%\n"
     ]
    },
    {
     "data": {
      "image/png": "[encoded data removed]",
      "text/plain": [
       "<Figure size 800x500 with 1 Axes>"
      ]
     },
     "metadata": {},
     "output_type": "display_data"
    },
    {
     "name": "stdout",
     "output_type": "stream",
     "text": [
      "\n",
      "Learning Rate Progression per Epoch:\n",
      "Epoch 1: 0.001000\n",
      "Epoch 2: 0.001000\n",
      "Epoch 3: 0.001000\n",
      "Epoch 4: 0.001000\n",
      "Epoch 5: 0.001000\n",
      "Epoch 6: 0.001000\n",
      "Epoch 7: 0.001000\n",
      "Epoch 8: 0.001000\n"
     ]
    },
    {
     "data": {
      "image/png": "[encoded data removed]",
      "text/plain": [
       "<Figure size 800x500 with 1 Axes>"
      ]
     },
     "metadata": {},
     "output_type": "display_data"
    }
   ],
   "source": [
    "import pandas as pd\n",
    "import numpy as np\n",
    "import tensorflow as tf\n",
    "import pickle  # Import pickle for saving tokenizer\n",
    "from tensorflow.keras.models import Sequential\n",
    "from tensorflow.keras.layers import Dense, Conv1D, LSTM, Dropout, Embedding, Flatten\n",
    "from tensorflow.keras.layers import LeakyReLU, ReLU, Activation\n",
    "from tensorflow.keras.preprocessing.text import Tokenizer\n",
    "from tensorflow.keras.preprocessing.sequence import pad_sequences\n",
    "from sklearn.model_selection import train_test_split\n",
    "import matplotlib.pyplot as plt\n",
    "\n",
    "# Load dataset (Update the path)\n",
    "csv_path = \"C:/Users/Edzel Armengol/Desktop/GITHUB/Code/BugLocalization/combined_java_snippets.csv\"  # Update with actual path\n",
    "df = pd.read_csv(csv_path)\n",
    "\n",
    "# Convert 'Category' column to binary labels (Buggy = 1, Non-Buggy = 0)\n",
    "df[\"Category\"] = df[\"Category\"].apply(lambda x: 1 if x == \"Buggy\" else 0)\n",
    "\n",
    "# Tokenize Java code snippets (character-level tokenization)\n",
    "tokenizer = Tokenizer(char_level=True)\n",
    "tokenizer.fit_on_texts(df[\"Code\"])\n",
    "\n",
    "# Save tokenizer as 'BugTokenizer.pkl'\n",
    "with open(\"BugTokenizer.pkl\", \"wb\") as handle:\n",
    "    pickle.dump(tokenizer, handle, protocol=pickle.HIGHEST_PROTOCOL)\n",
    "\n",
    "print(\"✅ Tokenizer saved as 'BugTokenizer.pkl'\")\n",
    "\n",
    "# Convert text to sequences and pad them\n",
    "X = tokenizer.texts_to_sequences(df[\"Code\"])\n",
    "X = pad_sequences(X, maxlen=500, padding=\"post\")  # Limit to 500 characters per snippet\n",
    "\n",
    "# Convert labels to NumPy array\n",
    "y = np.array(df[\"Category\"])\n",
    "\n",
    "# Split dataset into training & testing sets\n",
    "X_train, X_test, y_train, y_test = train_test_split(X, y, test_size=0.2, random_state=42)\n",
    "\n",
    "# Define the Bug Localization Model\n",
    "model = Sequential([\n",
    "    # Embedding layer to convert character sequences into dense vectors\n",
    "    Embedding(input_dim=len(tokenizer.word_index) + 1, output_dim=128, input_length=500),\n",
    "    \n",
    "    # CNN Layer for feature extraction\n",
    "    Conv1D(filters=64, kernel_size=3, padding=\"same\"),\n",
    "    LeakyReLU(alpha=0.1),  # Activation Function 1: LeakyReLU\n",
    "    \n",
    "    # LSTM Layer for sequence processing\n",
    "    LSTM(50, return_sequences=False),\n",
    "    \n",
    "    # Fully Connected Layers\n",
    "    Dense(128),\n",
    "    ReLU(),  # Activation Function 2: ReLU\n",
    "    Dropout(0.3),\n",
    "    \n",
    "    Dense(64),\n",
    "    Activation(\"sigmoid\"),  # Activation Function 3: Sigmoid\n",
    "    \n",
    "    # Output Layer (Binary Classification: Buggy or Non-Buggy)\n",
    "    Dense(1, activation=\"sigmoid\")\n",
    "])\n",
    "\n",
    "\n",
    "# Compile model with learning rate tracking\n",
    "initial_lr = 0.001\n",
    "optimizer = tf.keras.optimizers.Adam(learning_rate=initial_lr)  # Initial learning rate\n",
    "model.compile(optimizer=optimizer, loss='binary_crossentropy', metrics=['accuracy'])\n",
    "\n",
    "# Define a callback to track learning rate\n",
    "class LearningRateTracker(tf.keras.callbacks.Callback):\n",
    "    def __init__(self):\n",
    "        self.learning_rates = []\n",
    "\n",
    "    def on_epoch_end(self, epoch, logs=None):\n",
    "        lr = float(self.model.optimizer.learning_rate.numpy())  # Convert to float for better readability\n",
    "        self.learning_rates.append(lr)\n",
    "        print(f\"Epoch {epoch+1}: Learning Rate = {lr:.6f}\")\n",
    "\n",
    "# Initialize learning rate tracker\n",
    "lr_tracker = LearningRateTracker()\n",
    "\n",
    "# Train model and store history\n",
    "history = model.fit(X_train, y_train, epochs=8, batch_size=32, validation_data=(X_test, y_test), callbacks=[lr_tracker])\n",
    "\n",
    "# Extract training history\n",
    "history_dict = history.history\n",
    "\n",
    "# Save the trained model\n",
    "model.save(\"bug_localization_model.h5\")\n",
    "print(\"✅ Model saved as 'bug_localization_model.h5'\")\n",
    "\n",
    "# Evaluate Model\n",
    "loss, accuracy = model.evaluate(X_test, y_test)\n",
    "print(f\"Test Accuracy: {accuracy * 100:.2f}%\")\n",
    "\n",
    "# Plot training & validation loss values\n",
    "plt.figure(figsize=(8,5))\n",
    "plt.plot(history_dict['loss'], label='Training Loss')\n",
    "plt.plot(history_dict['val_loss'], label='Validation Loss')\n",
    "plt.xlabel(\"Epochs\")\n",
    "plt.ylabel(\"Loss\")\n",
    "plt.title(\"Training and Validation Loss\")\n",
    "plt.legend()\n",
    "plt.show()\n",
    "\n",
    "# Print learning rate values numerically\n",
    "print(\"\\nLearning Rate Progression per Epoch:\")\n",
    "for epoch, lr in enumerate(lr_tracker.learning_rates, start=1):\n",
    "    print(f\"Epoch {epoch}: {lr:.6f}\")\n",
    "\n",
    "# Plot learning rate progression\n",
    "plt.figure(figsize=(8,5))\n",
    "plt.plot(range(1, 9), lr_tracker.learning_rates, marker='o', linestyle='-')\n",
    "plt.xlabel(\"Epochs\")\n",
    "plt.ylabel(\"Learning Rate\")\n",
    "plt.title(\"Learning Rate per Epoch\")\n",
    "plt.grid(True)\n",
    "plt.show()\n"
   ]
  },
  {
   "cell_type": "code",
   "execution_count": 10,
   "metadata": {},
   "outputs": [
    {
     "name": "stdout",
     "output_type": "stream",
     "text": [
      "\u001b[1m16/16\u001b[0m \u001b[32m━━━━━━━━━━━━━━━━━━━━\u001b[0m\u001b[37m\u001b[0m \u001b[1m1s\u001b[0m 47ms/step\n",
      "Accuracy: 0.59\n",
      "Precision: 1.00\n",
      "Recall: 0.32\n",
      "F1-score: 0.48\n"
     ]
    }
   ],
   "source": [
    "from sklearn.metrics import accuracy_score, precision_score, recall_score, f1_score\n",
    "\n",
    "# Predict on the test set\n",
    "y_pred_probs = model.predict(X_test)\n",
    "y_pred = (y_pred_probs > 0.5).astype(int)  # Convert probabilities to binary labels\n",
    "\n",
    "# Calculate metrics\n",
    "accuracy = accuracy_score(y_test, y_pred)\n",
    "precision = precision_score(y_test, y_pred)\n",
    "recall = recall_score(y_test, y_pred)\n",
    "f1 = f1_score(y_test, y_pred)\n",
    "\n",
    "print(f\"Accuracy: {accuracy:.2f}\")\n",
    "print(f\"Precision: {precision:.2f}\")\n",
    "print(f\"Recall: {recall:.2f}\")\n",
    "print(f\"F1-score: {f1:.2f}\")\n"
   ]
  },
  {
   "cell_type": "code",
   "execution_count": 8,
   "metadata": {},
   "outputs": [
    {
     "name": "stderr",
     "output_type": "stream",
     "text": [
      "WARNING:absl:Compiled the loaded model, but the compiled metrics have yet to be built. `model.compile_metrics` will be empty until you train or evaluate the model.\n"
     ]
    },
    {
     "name": "stdout",
     "output_type": "stream",
     "text": [
      "\n",
      "💻 Enter your Java code snippet (Press Enter twice to finish):\n",
      "WARNING:tensorflow:5 out of the last 6 calls to <function TensorFlowTrainer.make_predict_function.<locals>.one_step_on_data_distributed at 0x000001D1D24259E0> triggered tf.function retracing. Tracing is expensive and the excessive number of tracings could be due to (1) creating @tf.function repeatedly in a loop, (2) passing tensors with different shapes, (3) passing Python objects instead of tensors. For (1), please define your @tf.function outside of the loop. For (2), @tf.function has reduce_retracing=True option that can avoid unnecessary retracing. For (3), please refer to https://www.tensorflow.org/guide/function#controlling_retracing and https://www.tensorflow.org/api_docs/python/tf/function for  more details.\n"
     ]
    },
    {
     "name": "stderr",
     "output_type": "stream",
     "text": [
      "WARNING:tensorflow:5 out of the last 6 calls to <function TensorFlowTrainer.make_predict_function.<locals>.one_step_on_data_distributed at 0x000001D1D24259E0> triggered tf.function retracing. Tracing is expensive and the excessive number of tracings could be due to (1) creating @tf.function repeatedly in a loop, (2) passing tensors with different shapes, (3) passing Python objects instead of tensors. For (1), please define your @tf.function outside of the loop. For (2), @tf.function has reduce_retracing=True option that can avoid unnecessary retracing. For (3), please refer to https://www.tensorflow.org/guide/function#controlling_retracing and https://www.tensorflow.org/api_docs/python/tf/function for  more details.\n"
     ]
    },
    {
     "name": "stdout",
     "output_type": "stream",
     "text": [
      "\u001b[1m1/1\u001b[0m \u001b[32m━━━━━━━━━━━━━━━━━━━━\u001b[0m\u001b[37m\u001b[0m \u001b[1m0s\u001b[0m 380ms/step\n",
      "\n",
      "🔍 Bug Localization Analysis:\n",
      "Code is Non-Buggy!\n"
     ]
    }
   ],
   "source": [
    "import tensorflow as tf\n",
    "import numpy as np\n",
    "import pickle\n",
    "import groq\n",
    "from tensorflow.keras.preprocessing.text import Tokenizer\n",
    "from tensorflow.keras.preprocessing.sequence import pad_sequences\n",
    "\n",
    "# Set up Groq API Key\n",
    "groq.api_key = \"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\"\n",
    "\n",
    "# Load trained bug detection model\n",
    "model = tf.keras.models.load_model(\"bug_localization_model.h5\")\n",
    "\n",
    "# Load tokenizer\n",
    "with open(\"BugTokenizer.pkl\", \"rb\") as handle:\n",
    "    tokenizer = pickle.load(handle)\n",
    "\n",
    "# Tokenization settings\n",
    "max_len = 500  # Must match training settings\n",
    "\n",
    "def predict_bug_status_ml(java_code):\n",
    "    \"\"\"Predict if a Java code snippet is Buggy or Non-Buggy using ML model.\"\"\"\n",
    "    # Convert user input to a sequence\n",
    "    sequence = tokenizer.texts_to_sequences([java_code])\n",
    "    padded_sequence = pad_sequences(sequence, maxlen=max_len, padding=\"post\")\n",
    "\n",
    "    # Get ML model prediction (probability between 0-1)\n",
    "    prediction = model.predict(padded_sequence)[0][0]\n",
    "\n",
    "    return prediction  # Higher values mean more likely buggy\n",
    "\n",
    "def classify_bug(java_code):\n",
    "    client = groq.Client(api_key=groq.api_key)\n",
    "    response = client.chat.completions.create(\n",
    "        model=\"llama-3.3-70b-versatile\",\n",
    "        messages=[\n",
    "            {\"role\": \"system\", \"content\": \n",
    "                \"Analyze the following Java code snippet and determine if it looks like it is buggy or not. \"\n",
    "                \"If the code contains poor practices, missing conditions, potential runtime errors, or looks structurally incorrect, consider it buggy. \"\n",
    "                \"Otherwise, if the code follows good syntax and logic, consider it non-buggy. \"\n",
    "                \"Return a probability score between 0 and 1, where: \"\n",
    "                \"0 = Absolutely non-buggy, 1 = Absolutely buggy. \"\n",
    "                \"Return only the probability value. Do not include any other text.\"\n",
    "            },\n",
    "            {\"role\": \"user\", \"content\": java_code}\n",
    "        ]\n",
    "    )\n",
    "\n",
    "    # Extract the probability from Groq response\n",
    "    groq_score_text = response.choices[0].message.content.strip()\n",
    "\n",
    "    try:\n",
    "        groq_score = float(groq_score_text)\n",
    "        if 0 <= groq_score <= 1:\n",
    "            return groq_score\n",
    "    except ValueError:\n",
    "        return None  # If Groq fails, ignore its result\n",
    "\n",
    "def compute_final_bug_score(ml_score, groq_score):\n",
    "    \"\"\"Combine ML model and Groq's predictions, giving Groq 75% weight.\"\"\"\n",
    "    if groq_score is None:\n",
    "        return \"Response invalid. ML Score: \" + (\"Buggy\" if ml_score > 0.5 else \"Non-Buggy\")\n",
    "\n",
    "    # Weighted final decision (Groq 75%, ML 25%)\n",
    "    final_score = (ml_score * 0.25) + (groq_score * 0.75)\n",
    "\n",
    "    # Classify as Buggy or Non-Buggy\n",
    "    return \"Buggy Code Detected!\" if final_score > 0.5 else \"Code is Non-Buggy!\"\n",
    "\n",
    "\n",
    "# Get user input (multi-line support)\n",
    "print(\"\\n💻 Enter your Java code snippet (Press Enter twice to finish):\")\n",
    "java_code = \"\"\n",
    "while True:\n",
    "    try:\n",
    "        line = input()\n",
    "        if line.strip() == \"\":  # Stop input on empty line\n",
    "            break\n",
    "        java_code += line + \"\\n\"\n",
    "    except EOFError:\n",
    "        break\n",
    "\n",
    "# Predict bug status using both ML model and Groq\n",
    "ml_prediction = predict_bug_status_ml(java_code)\n",
    "prediction = classify_bug(java_code)\n",
    "\n",
    "# Compute final decision\n",
    "final_result = compute_final_bug_score(ml_prediction, prediction)\n",
    "\n",
    "# Display result\n",
    "print(\"\\n🔍 Bug Localization Analysis:\")\n",
    "print(final_result)\n"
   ]
  },
  {
   "cell_type": "code",
   "execution_count": null,
   "metadata": {},
   "outputs": [],
   "source": []
  }
 ],
 "metadata": {
  "kernelspec": {
   "display_name": "Python 3",
   "language": "python",
   "name": "python3"
  },
  "language_info": {
   "codemirror_mode": {
    "name": "ipython",
    "version": 3
   },
   "file_extension": ".py",
   "mimetype": "text/x-python",
   "name": "python",
   "nbconvert_exporter": "python",
   "pygments_lexer": "ipython3",
   "version": "3.12.0"
  }
 },
 "nbformat": 4,
 "nbformat_minor": 2
}
