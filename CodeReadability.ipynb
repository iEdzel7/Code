{
 "cells": [
  {
   "cell_type": "code",
   "execution_count": 8,
   "metadata": {},
   "outputs": [
    {
     "name": "stdout",
     "output_type": "stream",
     "text": [
      "Updated CSV saved at: Code Readability\\Dataset\\scores_updated.csv\n"
     ]
    },
    {
     "name": "stderr",
     "output_type": "stream",
     "text": [
      "<>:4: SyntaxWarning: invalid escape sequence '\\D'\n",
      "<>:17: SyntaxWarning: invalid escape sequence '\\D'\n",
      "<>:4: SyntaxWarning: invalid escape sequence '\\D'\n",
      "<>:17: SyntaxWarning: invalid escape sequence '\\D'\n",
      "C:\\Users\\Edzel Armengol\\AppData\\Local\\Temp\\ipykernel_15828\\2846037612.py:4: SyntaxWarning: invalid escape sequence '\\D'\n",
      "  file_path = \"Code Readability\\Dataset\\scores.csv\"  # Change this to the actual file path\n",
      "C:\\Users\\Edzel Armengol\\AppData\\Local\\Temp\\ipykernel_15828\\2846037612.py:17: SyntaxWarning: invalid escape sequence '\\D'\n",
      "  updated_file_path = \"Code Readability\\Dataset\\scores_updated.csv\"  # Change this to desired save location\n"
     ]
    }
   ],
   "source": [
    "import pandas as pd\n",
    "\n",
    "# Load the CSV file\n",
    "file_path = \"Code Readability\\Dataset\\scores.csv\"  # Change this to the actual file path\n",
    "df = pd.read_csv(file_path)\n",
    "\n",
    "# Remove the first column\n",
    "df = df.iloc[:, 1:]\n",
    "\n",
    "# Compute the mean for each \"Snippet\" column\n",
    "df_mean = df.mean(axis=0)\n",
    "\n",
    "# Convert the mean values to a single-row DataFrame\n",
    "df = pd.DataFrame([df_mean])\n",
    "\n",
    "# Save the updated CSV file\n",
    "updated_file_path = \"Code Readability\\Dataset\\scores_updated.csv\"  # Change this to desired save location\n",
    "df.to_csv(updated_file_path, index=False)\n",
    "\n",
    "print(f\"Updated CSV saved at: {updated_file_path}\")\n"
   ]
  },
  {
   "cell_type": "code",
   "execution_count": 1,
   "metadata": {},
   "outputs": [
    {
     "name": "stderr",
     "output_type": "stream",
     "text": [
      "<>:4: SyntaxWarning: invalid escape sequence '\\D'\n",
      "<>:14: SyntaxWarning: invalid escape sequence '\\D'\n",
      "<>:4: SyntaxWarning: invalid escape sequence '\\D'\n",
      "<>:14: SyntaxWarning: invalid escape sequence '\\D'\n",
      "C:\\Users\\Edzel Armengol\\AppData\\Local\\Temp\\ipykernel_15828\\2142069152.py:4: SyntaxWarning: invalid escape sequence '\\D'\n",
      "  file_path = \"Code Readability\\Dataset\\scores_updated.csv\"  # Change this to the actual file path\n",
      "C:\\Users\\Edzel Armengol\\AppData\\Local\\Temp\\ipykernel_15828\\2142069152.py:14: SyntaxWarning: invalid escape sequence '\\D'\n",
      "  updated_file_path = \"Code Readability\\Dataset\\scores_final.csv\"  # Change this to desired save location\n"
     ]
    },
    {
     "name": "stdout",
     "output_type": "stream",
     "text": [
      "Final CSV saved at: Code Readability\\Dataset\\scores_final.csv\n"
     ]
    }
   ],
   "source": [
    "import pandas as pd\n",
    "\n",
    "# Load the CSV file\n",
    "file_path = \"Code Readability\\Dataset\\scores_updated.csv\"  # Change this to the actual file path\n",
    "df = pd.read_csv(file_path)\n",
    "\n",
    "# Transpose the DataFrame to convert columns into rows\n",
    "df = df.T.reset_index()\n",
    "\n",
    "# Rename columns\n",
    "df.columns = [\"Code Snippet\", \"Code Readability Score\"]\n",
    "\n",
    "# Save the modified CSV file\n",
    "updated_file_path = \"Code Readability\\Dataset\\scores_final.csv\"  # Change this to desired save location\n",
    "df.to_csv(updated_file_path, index=False)\n",
    "\n",
    "print(f\"Final CSV saved at: {updated_file_path}\")"
   ]
  },
  {
   "cell_type": "code",
   "execution_count": 2,
   "metadata": {},
   "outputs": [
    {
     "name": "stderr",
     "output_type": "stream",
     "text": [
      "<>:5: SyntaxWarning: invalid escape sequence '\\D'\n",
      "<>:9: SyntaxWarning: invalid escape sequence '\\D'\n",
      "<>:23: SyntaxWarning: invalid escape sequence '\\s'\n",
      "<>:5: SyntaxWarning: invalid escape sequence '\\D'\n",
      "<>:9: SyntaxWarning: invalid escape sequence '\\D'\n",
      "<>:23: SyntaxWarning: invalid escape sequence '\\s'\n",
      "C:\\Users\\Edzel Armengol\\AppData\\Local\\Temp\\ipykernel_15828\\2870752706.py:5: SyntaxWarning: invalid escape sequence '\\D'\n",
      "  file_path = \"Code Readability\\Dataset\\scores_final.csv\"  # Change this to the actual file path\n",
      "C:\\Users\\Edzel Armengol\\AppData\\Local\\Temp\\ipykernel_15828\\2870752706.py:9: SyntaxWarning: invalid escape sequence '\\D'\n",
      "  snippets_folder = \"Code Readability\\Dataset\\Snippets\"  # Change this to the actual folder path\n",
      "C:\\Users\\Edzel Armengol\\AppData\\Local\\Temp\\ipykernel_15828\\2870752706.py:23: SyntaxWarning: invalid escape sequence '\\s'\n",
      "  updated_file_path = \"Code Readability\\snippets_updated.csv\"  # Change this to desired save location\n"
     ]
    },
    {
     "name": "stdout",
     "output_type": "stream",
     "text": [
      "Updated CSV saved at: Code Readability\\snippets_updated.csv\n"
     ]
    }
   ],
   "source": [
    "import pandas as pd\n",
    "import os\n",
    "\n",
    "# Load the CSV file\n",
    "file_path = \"Code Readability\\Dataset\\scores_final.csv\"  # Change this to the actual file path\n",
    "df = pd.read_csv(file_path)\n",
    "\n",
    "# Define the folder containing the .jsnp files\n",
    "snippets_folder = \"Code Readability\\Dataset\\Snippets\"  # Change this to the actual folder path\n",
    "\n",
    "# Read each .jsnp file and replace the corresponding row in the CSV\n",
    "for i in range(1, 201):\n",
    "    snippet_path = os.path.join(snippets_folder, f\"{i}.jsnp\")\n",
    "    \n",
    "    if os.path.exists(snippet_path):\n",
    "        with open(snippet_path, \"r\", encoding=\"utf-8\") as file:\n",
    "            code_content = file.read()\n",
    "        \n",
    "        # Replace the corresponding \"Code Snippet\" value in the DataFrame\n",
    "        df.loc[df[\"Code Snippet\"] == f\"Snippet{i}\", \"Code Snippet\"] = code_content\n",
    "    \n",
    "# Save the updated CSV file\n",
    "updated_file_path = \"Code Readability\\snippets_updated.csv\"  # Change this to desired save location\n",
    "df.to_csv(updated_file_path, index=False)\n",
    "\n",
    "print(f\"Updated CSV saved at: {updated_file_path}\")"
   ]
  },
  {
   "cell_type": "code",
   "execution_count": 3,
   "metadata": {},
   "outputs": [
    {
     "name": "stdout",
     "output_type": "stream",
     "text": [
      "Dataset saved at: C:\\Users\\Edzel Armengol/Desktop//GITHUB/Streamlit/Code Readability/HugginFace/code-readability-krod.csv\n"
     ]
    }
   ],
   "source": [
    "import os\n",
    "import pandas as pd\n",
    "from datasets import load_dataset\n",
    "\n",
    "# Load the dataset\n",
    "ds = load_dataset(\"se2p/code-readability-krod\")\n",
    "\n",
    "# Extract the 'train' set since there's no separate test/validation split\n",
    "ds = ds['train']\n",
    "\n",
    "# Convert dataset to list and then to Pandas DataFrame\n",
    "df = pd.DataFrame(ds.to_list())\n",
    "\n",
    "# Remove the 'name' column if it exists\n",
    "if 'name' in df.columns:\n",
    "    df = df.drop(columns=['name'])\n",
    "\n",
    "# Define the save location\n",
    "save_path = os.path.expanduser(\"~/Desktop//GITHUB/Streamlit/Code Readability/HugginFace/code-readability-krod.csv\")\n",
    "\n",
    "# Ensure the directory exists\n",
    "os.makedirs(os.path.dirname(save_path), exist_ok=True)\n",
    "\n",
    "# Save DataFrame to CSV\n",
    "df.to_csv(save_path, index=False)\n",
    "\n",
    "print(f\"Dataset saved at: {save_path}\")\n"
   ]
  },
  {
   "cell_type": "code",
   "execution_count": 4,
   "metadata": {},
   "outputs": [
    {
     "name": "stdout",
     "output_type": "stream",
     "text": [
      "Dataset saved at: C:\\Users\\Edzel Armengol/Desktop//GITHUB/Streamlit/code_readability_merged.csv\n"
     ]
    }
   ],
   "source": [
    "import os\n",
    "import pandas as pd\n",
    "from datasets import load_dataset\n",
    "\n",
    "# Load the dataset\n",
    "ds = load_dataset(\"se2p/code-readability-merged\")\n",
    "\n",
    "# Extract the 'train' set since there's no separate test/validation split\n",
    "ds = ds['train']\n",
    "\n",
    "# Convert dataset to list and then to Pandas DataFrame\n",
    "df = pd.DataFrame(ds.to_list())\n",
    "\n",
    "# Define the save location\n",
    "save_path = os.path.expanduser(\"~/Desktop//GITHUB/Streamlit/code_readability_merged.csv\")\n",
    "\n",
    "# Ensure the directory exists\n",
    "os.makedirs(os.path.dirname(save_path), exist_ok=True)\n",
    "\n",
    "# Save DataFrame to CSV\n",
    "df.to_csv(save_path, index=False)\n",
    "\n",
    "print(f\"Dataset saved at: {save_path}\")\n"
   ]
  },
  {
   "cell_type": "code",
   "execution_count": 5,
   "metadata": {},
   "outputs": [
    {
     "name": "stdout",
     "output_type": "stream",
     "text": [
      "Final combined CSV saved at: Code Readability/Final_CodeReadability.csv\n"
     ]
    }
   ],
   "source": [
    "import pandas as pd\n",
    "import os\n",
    "\n",
    "# Define file paths\n",
    "file1 = \"Code Readability/snippets_updated.csv\"  # First dataset\n",
    "file2 = \"Code Readability/HugginFace/code_readability_merged.csv\"  # Second dataset\n",
    "output_file = \"Code Readability/Final_CodeReadability.csv\"  # Output file\n",
    "\n",
    "# Load datasets\n",
    "df1 = pd.read_csv(file1)\n",
    "df2 = pd.read_csv(file2)\n",
    "\n",
    "# Rename columns in df2 and df3 to match df1\n",
    "df2 = df2.rename(columns={\"code_snippet\": \"Code Snippet\", \"score\": \"Code Readability Score\"})\n",
    "\n",
    "# Select only necessary columns\n",
    "df2 = df2[[\"Code Snippet\", \"Code Readability Score\"]]\n",
    "\n",
    "\n",
    "# Combine datasets\n",
    "df_combined = pd.concat([df1, df2], ignore_index=True)\n",
    "\n",
    "# Save the final combined dataset\n",
    "df_combined.to_csv(output_file, index=False)\n",
    "\n",
    "print(f\"Final combined CSV saved at: {output_file}\")\n"
   ]
  },
  {
   "cell_type": "code",
   "execution_count": 28,
   "metadata": {},
   "outputs": [
    {
     "name": "stdout",
     "output_type": "stream",
     "text": [
      "Epoch 1/8\n"
     ]
    },
    {
     "name": "stderr",
     "output_type": "stream",
     "text": [
      "c:\\Users\\Edzel Armengol\\AppData\\Local\\Programs\\Python\\Python312\\Lib\\site-packages\\keras\\src\\layers\\core\\embedding.py:90: UserWarning: Argument `input_length` is deprecated. Just remove it.\n",
      "  warnings.warn(\n",
      "c:\\Users\\Edzel Armengol\\AppData\\Local\\Programs\\Python\\Python312\\Lib\\site-packages\\keras\\src\\layers\\activations\\leaky_relu.py:41: UserWarning: Argument `alpha` is deprecated. Use `negative_slope` instead.\n",
      "  warnings.warn(\n"
     ]
    },
    {
     "name": "stdout",
     "output_type": "stream",
     "text": [
      "\u001b[1m15/16\u001b[0m \u001b[32m━━━━━━━━━━━━━━━━━━\u001b[0m\u001b[37m━━\u001b[0m \u001b[1m0s\u001b[0m 40ms/step - accuracy: 0.5464 - loss: 0.6901Epoch 1: Learning Rate = 0.001000\n",
      "\u001b[1m16/16\u001b[0m \u001b[32m━━━━━━━━━━━━━━━━━━━━\u001b[0m\u001b[37m\u001b[0m \u001b[1m3s\u001b[0m 55ms/step - accuracy: 0.5457 - loss: 0.6896 - val_accuracy: 0.5280 - val_loss: 0.6780\n",
      "Epoch 2/8\n",
      "\u001b[1m15/16\u001b[0m \u001b[32m━━━━━━━━━━━━━━━━━━\u001b[0m\u001b[37m━━\u001b[0m \u001b[1m0s\u001b[0m 39ms/step - accuracy: 0.5668 - loss: 0.6362Epoch 2: Learning Rate = 0.001000\n",
      "\u001b[1m16/16\u001b[0m \u001b[32m━━━━━━━━━━━━━━━━━━━━\u001b[0m\u001b[37m\u001b[0m \u001b[1m1s\u001b[0m 42ms/step - accuracy: 0.5722 - loss: 0.6335 - val_accuracy: 0.6160 - val_loss: 0.6162\n",
      "Epoch 3/8\n",
      "\u001b[1m15/16\u001b[0m \u001b[32m━━━━━━━━━━━━━━━━━━\u001b[0m\u001b[37m━━\u001b[0m \u001b[1m0s\u001b[0m 39ms/step - accuracy: 0.8128 - loss: 0.4759Epoch 3: Learning Rate = 0.001000\n",
      "\u001b[1m16/16\u001b[0m \u001b[32m━━━━━━━━━━━━━━━━━━━━\u001b[0m\u001b[37m\u001b[0m \u001b[1m1s\u001b[0m 43ms/step - accuracy: 0.8163 - loss: 0.4678 - val_accuracy: 0.6880 - val_loss: 0.5591\n",
      "Epoch 4/8\n",
      "\u001b[1m15/16\u001b[0m \u001b[32m━━━━━━━━━━━━━━━━━━\u001b[0m\u001b[37m━━\u001b[0m \u001b[1m0s\u001b[0m 40ms/step - accuracy: 0.9548 - loss: 0.1666Epoch 4: Learning Rate = 0.001000\n",
      "\u001b[1m16/16\u001b[0m \u001b[32m━━━━━━━━━━━━━━━━━━━━\u001b[0m\u001b[37m\u001b[0m \u001b[1m1s\u001b[0m 43ms/step - accuracy: 0.9533 - loss: 0.1681 - val_accuracy: 0.8080 - val_loss: 0.6443\n",
      "Epoch 5/8\n",
      "\u001b[1m15/16\u001b[0m \u001b[32m━━━━━━━━━━━━━━━━━━\u001b[0m\u001b[37m━━\u001b[0m \u001b[1m0s\u001b[0m 37ms/step - accuracy: 0.9871 - loss: 0.0544Epoch 5: Learning Rate = 0.001000\n",
      "\u001b[1m16/16\u001b[0m \u001b[32m━━━━━━━━━━━━━━━━━━━━\u001b[0m\u001b[37m\u001b[0m \u001b[1m1s\u001b[0m 40ms/step - accuracy: 0.9877 - loss: 0.0522 - val_accuracy: 0.7600 - val_loss: 0.6779\n",
      "Epoch 6/8\n",
      "\u001b[1m15/16\u001b[0m \u001b[32m━━━━━━━━━━━━━━━━━━\u001b[0m\u001b[37m━━\u001b[0m \u001b[1m0s\u001b[0m 37ms/step - accuracy: 0.9890 - loss: 0.0236Epoch 6: Learning Rate = 0.001000\n",
      "\u001b[1m16/16\u001b[0m \u001b[32m━━━━━━━━━━━━━━━━━━━━\u001b[0m\u001b[37m\u001b[0m \u001b[1m1s\u001b[0m 40ms/step - accuracy: 0.9896 - loss: 0.0227 - val_accuracy: 0.8000 - val_loss: 1.0206\n",
      "Epoch 7/8\n",
      "\u001b[1m15/16\u001b[0m \u001b[32m━━━━━━━━━━━━━━━━━━\u001b[0m\u001b[37m━━\u001b[0m \u001b[1m0s\u001b[0m 41ms/step - accuracy: 0.9931 - loss: 0.0078Epoch 7: Learning Rate = 0.001000\n",
      "\u001b[1m16/16\u001b[0m \u001b[32m━━━━━━━━━━━━━━━━━━━━\u001b[0m\u001b[37m\u001b[0m \u001b[1m1s\u001b[0m 43ms/step - accuracy: 0.9937 - loss: 0.0073 - val_accuracy: 0.7600 - val_loss: 0.9284\n",
      "Epoch 8/8\n",
      "\u001b[1m15/16\u001b[0m \u001b[32m━━━━━━━━━━━━━━━━━━\u001b[0m\u001b[37m━━\u001b[0m \u001b[1m0s\u001b[0m 38ms/step - accuracy: 1.0000 - loss: 0.0014Epoch 8: Learning Rate = 0.001000\n",
      "\u001b[1m16/16\u001b[0m \u001b[32m━━━━━━━━━━━━━━━━━━━━\u001b[0m\u001b[37m\u001b[0m \u001b[1m1s\u001b[0m 42ms/step - accuracy: 1.0000 - loss: 0.0014 - val_accuracy: 0.7840 - val_loss: 0.9695\n",
      "\u001b[1m4/4\u001b[0m \u001b[32m━━━━━━━━━━━━━━━━━━━━\u001b[0m\u001b[37m\u001b[0m \u001b[1m0s\u001b[0m 10ms/step - accuracy: 0.7896 - loss: 0.8139\n"
     ]
    },
    {
     "name": "stderr",
     "output_type": "stream",
     "text": [
      "WARNING:absl:You are saving your model as an HDF5 file via `model.save()` or `keras.saving.save_model(model)`. This file format is considered legacy. We recommend using instead the native Keras format, e.g. `model.save('my_model.keras')` or `keras.saving.save_model(model, 'my_model.keras')`. \n"
     ]
    },
    {
     "name": "stdout",
     "output_type": "stream",
     "text": [
      "Test Accuracy: 0.78\n"
     ]
    },
    {
     "data": {
      "image/png": "[encoded data removed]",
      "text/plain": [
       "<Figure size 800x500 with 1 Axes>"
      ]
     },
     "metadata": {},
     "output_type": "display_data"
    },
    {
     "name": "stdout",
     "output_type": "stream",
     "text": [
      "\n",
      "Learning Rate Progression per Epoch:\n",
      "Epoch 1: 0.001000\n",
      "Epoch 2: 0.001000\n",
      "Epoch 3: 0.001000\n",
      "Epoch 4: 0.001000\n",
      "Epoch 5: 0.001000\n",
      "Epoch 6: 0.001000\n",
      "Epoch 7: 0.001000\n",
      "Epoch 8: 0.001000\n"
     ]
    },
    {
     "data": {
      "image/png": "[encoded data removed]",
      "text/plain": [
       "<Figure size 800x500 with 1 Axes>"
      ]
     },
     "metadata": {},
     "output_type": "display_data"
    }
   ],
   "source": [
    "import pandas as pd\n",
    "import tensorflow as tf\n",
    "from tensorflow.keras import layers, models\n",
    "from sklearn.model_selection import train_test_split\n",
    "from tensorflow.keras.preprocessing.text import Tokenizer\n",
    "from tensorflow.keras.preprocessing.sequence import pad_sequences\n",
    "from tensorflow.keras.layers import Dropout, LeakyReLU\n",
    "import matplotlib.pyplot as plt\n",
    "import pickle\n",
    "\n",
    "# Load dataset\n",
    "df = pd.read_csv(\"Code Readability/Final_CodeReadability.csv\")\n",
    "\n",
    "# Assume 'Code Snippet' column contains the source code snippets and 'Code Readability Score' is the numerical readability score\n",
    "X = df['Code Snippet'].astype(str)  # Convert to string if not already\n",
    "y = df['Code Readability Score']  # Readability scores\n",
    "\n",
    "# Normalize scores to binary classification (Readable if score > median, else Unreadable)\n",
    "median_score = y.median()\n",
    "y = (y > median_score).astype(int)\n",
    "\n",
    "# Tokenization\n",
    "max_words = 10000  # Vocabulary size\n",
    "max_len = 200  # Max sequence length\n",
    "\n",
    "tokenizer = Tokenizer(num_words=max_words, oov_token=\"<OOV>\")\n",
    "tokenizer.fit_on_texts(X)\n",
    "X_sequences = tokenizer.texts_to_sequences(X)\n",
    "X_padded = pad_sequences(X_sequences, maxlen=max_len, padding='post', truncating='post')\n",
    "\n",
    "# Split dataset\n",
    "X_train, X_test, y_train, y_test = train_test_split(X_padded, y, test_size=0.2, random_state=42)\n",
    "\n",
    "# Build CNN Model\n",
    "model = models.Sequential([\n",
    "    layers.Embedding(input_dim=max_words, output_dim=128, input_length=max_len),\n",
    "    layers.Conv1D(128, 5, activation='relu'),\n",
    "    layers.MaxPooling1D(2),\n",
    "    Dropout(0.3),  # Prevent overfitting\n",
    "    layers.Conv1D(64, 5),\n",
    "    LeakyReLU(alpha=0.01),  # Apply LeakyReLU activation\n",
    "    layers.MaxPooling1D(2),\n",
    "    Dropout(0.3),  # Prevent overfitting\n",
    "    layers.Flatten(),\n",
    "    layers.Dense(64),\n",
    "    LeakyReLU(alpha=0.01),  # Apply LeakyReLU activation\n",
    "    Dropout(0.3),  # Prevent overfitting\n",
    "    layers.Dense(1, activation='sigmoid')\n",
    "])\n",
    "\n",
    "# Compile model with learning rate tracking\n",
    "initial_lr = 0.001\n",
    "optimizer = tf.keras.optimizers.Adam(learning_rate=initial_lr)  # Initial learning rate\n",
    "model.compile(optimizer=optimizer, loss='binary_crossentropy', metrics=['accuracy'])\n",
    "\n",
    "# Define a callback to track learning rate\n",
    "class LearningRateTracker(tf.keras.callbacks.Callback):\n",
    "    def __init__(self):\n",
    "        self.learning_rates = []\n",
    "\n",
    "    def on_epoch_end(self, epoch, logs=None):\n",
    "        lr = float(self.model.optimizer.learning_rate.numpy())  # Convert to float for better readability\n",
    "        self.learning_rates.append(lr)\n",
    "        print(f\"Epoch {epoch+1}: Learning Rate = {lr:.6f}\")\n",
    "\n",
    "# Initialize learning rate tracker\n",
    "lr_tracker = LearningRateTracker()\n",
    "\n",
    "# Train model and store history\n",
    "history = model.fit(X_train, y_train, epochs=8, batch_size=32, validation_data=(X_test, y_test), callbacks=[lr_tracker])\n",
    "\n",
    "# Extract training history\n",
    "history_dict = history.history\n",
    "\n",
    "# Evaluate model\n",
    "test_loss, test_acc = model.evaluate(X_test, y_test)\n",
    "print(f\"Test Accuracy: {test_acc:.2f}\")\n",
    "\n",
    "# Save model\n",
    "model.save(\"code_readability_model.h5\")\n",
    "\n",
    "# Save the tokenizer after training\n",
    "with open(\"tokenizer.pkl\", \"wb\") as handle:\n",
    "    pickle.dump(tokenizer, handle, protocol=pickle.HIGHEST_PROTOCOL)\n",
    "\n",
    "# Plot training & validation loss values\n",
    "plt.figure(figsize=(8,5))\n",
    "plt.plot(history_dict['loss'], label='Training Loss')\n",
    "plt.plot(history_dict['val_loss'], label='Validation Loss')\n",
    "plt.xlabel(\"Epochs\")\n",
    "plt.ylabel(\"Loss\")\n",
    "plt.title(\"Training and Validation Loss\")\n",
    "plt.legend()\n",
    "plt.show()\n",
    "\n",
    "# Print learning rate values numerically\n",
    "print(\"\\nLearning Rate Progression per Epoch:\")\n",
    "for epoch, lr in enumerate(lr_tracker.learning_rates, start=1):\n",
    "    print(f\"Epoch {epoch}: {lr:.6f}\")\n",
    "\n",
    "# Plot learning rate progression\n",
    "plt.figure(figsize=(8,5))\n",
    "plt.plot(range(1, 9), lr_tracker.learning_rates, marker='o', linestyle='-')\n",
    "plt.xlabel(\"Epochs\")\n",
    "plt.ylabel(\"Learning Rate\")\n",
    "plt.title(\"Learning Rate per Epoch\")\n",
    "plt.grid(True)\n",
    "plt.show()\n"
   ]
  },
  {
   "cell_type": "code",
   "execution_count": 29,
   "metadata": {},
   "outputs": [
    {
     "name": "stdout",
     "output_type": "stream",
     "text": [
      "\u001b[1m4/4\u001b[0m \u001b[32m━━━━━━━━━━━━━━━━━━━━\u001b[0m\u001b[37m\u001b[0m \u001b[1m0s\u001b[0m 35ms/step\n",
      "Accuracy: 0.78\n",
      "Precision: 0.77\n",
      "Recall: 0.80\n",
      "F1-score: 0.78\n"
     ]
    }
   ],
   "source": [
    "from sklearn.metrics import accuracy_score, precision_score, recall_score, f1_score\n",
    "\n",
    "# Predict on the test set\n",
    "y_pred_probs = model.predict(X_test)\n",
    "y_pred = (y_pred_probs > 0.5).astype(int)  # Convert probabilities to binary labels\n",
    "\n",
    "# Calculate metrics\n",
    "accuracy = accuracy_score(y_test, y_pred)\n",
    "precision = precision_score(y_test, y_pred)\n",
    "recall = recall_score(y_test, y_pred)\n",
    "f1 = f1_score(y_test, y_pred)\n",
    "\n",
    "print(f\"Accuracy: {accuracy:.2f}\")\n",
    "print(f\"Precision: {precision:.2f}\")\n",
    "print(f\"Recall: {recall:.2f}\")\n",
    "print(f\"F1-score: {f1:.2f}\")\n"
   ]
  },
  {
   "cell_type": "code",
   "execution_count": 30,
   "metadata": {},
   "outputs": [
    {
     "data": {
      "image/png": "[encoded data removed]",
      "text/plain": [
       "<Figure size 600x500 with 2 Axes>"
      ]
     },
     "metadata": {},
     "output_type": "display_data"
    }
   ],
   "source": [
    "from sklearn.metrics import confusion_matrix\n",
    "import seaborn as sns\n",
    "import matplotlib.pyplot as plt\n",
    "\n",
    "# Compute confusion matrix\n",
    "cm = confusion_matrix(y_test, y_pred)\n",
    "\n",
    "# Plot confusion matrix\n",
    "plt.figure(figsize=(6,5))\n",
    "sns.heatmap(cm, annot=True, fmt=\"d\", cmap=\"Blues\", xticklabels=[\"Unreadable\", \"Readable\"], yticklabels=[\"Unreadable\", \"Readable\"])\n",
    "plt.xlabel(\"Predicted\")\n",
    "plt.ylabel(\"Actual\")\n",
    "plt.title(\"Confusion Matrix\")\n",
    "plt.show()\n"
   ]
  },
  {
   "cell_type": "code",
   "execution_count": null,
   "metadata": {},
   "outputs": [
    {
     "name": "stderr",
     "output_type": "stream",
     "text": [
      "WARNING:absl:Compiled the loaded model, but the compiled metrics have yet to be built. `model.compile_metrics` will be empty until you train or evaluate the model.\n"
     ]
    },
    {
     "name": "stdout",
     "output_type": "stream",
     "text": [
      "\n",
      "💻 Enter your Java code snippet (Press Enter twice to finish):\n",
      "WARNING:tensorflow:5 out of the last 5 calls to <function TensorFlowTrainer.make_predict_function.<locals>.one_step_on_data_distributed at 0x0000025875A80E00> triggered tf.function retracing. Tracing is expensive and the excessive number of tracings could be due to (1) creating @tf.function repeatedly in a loop, (2) passing tensors with different shapes, (3) passing Python objects instead of tensors. For (1), please define your @tf.function outside of the loop. For (2), @tf.function has reduce_retracing=True option that can avoid unnecessary retracing. For (3), please refer to https://www.tensorflow.org/guide/function#controlling_retracing and https://www.tensorflow.org/api_docs/python/tf/function for  more details.\n"
     ]
    },
    {
     "name": "stderr",
     "output_type": "stream",
     "text": [
      "WARNING:tensorflow:5 out of the last 5 calls to <function TensorFlowTrainer.make_predict_function.<locals>.one_step_on_data_distributed at 0x0000025875A80E00> triggered tf.function retracing. Tracing is expensive and the excessive number of tracings could be due to (1) creating @tf.function repeatedly in a loop, (2) passing tensors with different shapes, (3) passing Python objects instead of tensors. For (1), please define your @tf.function outside of the loop. For (2), @tf.function has reduce_retracing=True option that can avoid unnecessary retracing. For (3), please refer to https://www.tensorflow.org/guide/function#controlling_retracing and https://www.tensorflow.org/api_docs/python/tf/function for  more details.\n"
     ]
    },
    {
     "name": "stdout",
     "output_type": "stream",
     "text": [
      "\u001b[1m1/1\u001b[0m \u001b[32m━━━━━━━━━━━━━━━━━━━━\u001b[0m\u001b[37m\u001b[0m \u001b[1m0s\u001b[0m 162ms/step\n",
      "Readability Score: 4/5\n"
     ]
    }
   ],
   "source": [
    "import tensorflow as tf\n",
    "import numpy as np\n",
    "import pandas as pd\n",
    "import pickle\n",
    "from tensorflow.keras.preprocessing.text import Tokenizer\n",
    "from tensorflow.keras.preprocessing.sequence import pad_sequences\n",
    "import groq\n",
    "\n",
    "# Set up Groq API Key\n",
    "groq.api_key = \"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\"\n",
    "\n",
    "# Load trained readability model\n",
    "model = tf.keras.models.load_model(\"code_readability_model.h5\")\n",
    "\n",
    "# Load tokenizer\n",
    "with open(\"tokenizer.pkl\", \"rb\") as handle:\n",
    "    tokenizer = pickle.load(handle)\n",
    "\n",
    "# Tokenization settings\n",
    "max_len = 200  # Same max sequence length used during training\n",
    "\n",
    "def predict_readability(java_code):\n",
    "    \"\"\"Predict numerical readability score using the trained ML model.\"\"\"\n",
    "    sequence = tokenizer.texts_to_sequences([java_code])\n",
    "    padded_sequence = pad_sequences(sequence, maxlen=max_len, padding='post', truncating='post')\n",
    "\n",
    "    # Get prediction from trained model\n",
    "    prediction = model.predict(padded_sequence)[0][0]\n",
    "\n",
    "    # Convert probability to 1-5 scale\n",
    "    score = round(prediction * 4 + 1)\n",
    "\n",
    "    return score\n",
    "\n",
    "def classify_readability_with_llama(java_code):\n",
    "    client = groq.Client(api_key=groq.api_key)\n",
    "    response = client.chat.completions.create(\n",
    "        model=\"llama-3.3-70b-versatile\",\n",
    "        messages=[\n",
    "            {\"role\": \"system\", \"content\": \n",
    "                \"Analyze the following Java code snippet and provide a readability/efficiency score from 1-5. \"\n",
    "                \"Score the code **1 or 2** if it is difficult to read due to poor formatting, unclear variable names, lack of indentation, or compressed structure. \"\n",
    "                \"Score the code **4 or 5** if it follows good coding practices such as proper indentation, clear variable names, and spacing. \"\n",
    "                \"If the code is average but could use minor improvements, assign a score of **3**. \"\n",
    "                \"Return only the number (1, 2, 3, 4, or 5). Do not include any other text.\"\n",
    "            },\n",
    "            {\"role\": \"user\", \"content\": java_code}\n",
    "        ]\n",
    "    )\n",
    "\n",
    "    # Extract the numerical score from Llama 3 response\n",
    "    score_text = response.choices[0].message.content.strip()\n",
    "\n",
    "    try:\n",
    "        score = int(score_text)\n",
    "        if 1 <= score <= 5:\n",
    "            return score\n",
    "    except ValueError:\n",
    "        return None  # If Llama 3 fails to return a valid number, ignore it\n",
    "\n",
    "def compute_final_score(ml_score, score):\n",
    "    if score is None:\n",
    "        return ml_score\n",
    "\n",
    "    final_score = round((ml_score * 0.3) + (score * 0.7))\n",
    "    \n",
    "    # Ensure score is between 1-5\n",
    "    return max(1, min(final_score, 5))\n",
    "\n",
    "# Get user input (multi-line support)\n",
    "print(\"\\n💻 Enter your Java code snippet (Press Enter twice to finish):\")\n",
    "java_code = \"\"\n",
    "while True:\n",
    "    try:\n",
    "        line = input()\n",
    "        if line.strip() == \"\":  # Stop input on empty line\n",
    "            break\n",
    "        java_code += line + \"\\n\"\n",
    "    except EOFError:\n",
    "        break\n",
    "\n",
    "# Predict readability score using ML model\n",
    "numerical_score = predict_readability(java_code)\n",
    "\n",
    "# Get readability classification & score from Groq Llama 3\n",
    "score = classify_readability_with_llama(java_code)\n",
    "\n",
    "# Compute final weighted score\n",
    "final_score = compute_final_score(numerical_score, score)\n",
    "print(f\"Readability Score: {final_score}/5\")\n"
   ]
  },
  {
   "cell_type": "code",
   "execution_count": 16,
   "metadata": {},
   "outputs": [
    {
     "name": "stdout",
     "output_type": "stream",
     "text": [
      "\n",
      "💻 Enter your Java code snippet (Press Enter twice to finish):\n",
      "\u001b[1m1/1\u001b[0m \u001b[32m━━━━━━━━━━━━━━━━━━━━\u001b[0m\u001b[37m\u001b[0m \u001b[1m0s\u001b[0m 53ms/step\n",
      "Readability Score: 4/5\n"
     ]
    }
   ],
   "source": [
    "# Get user input (multi-line support)\n",
    "print(\"\\n💻 Enter your Java code snippet (Press Enter twice to finish):\")\n",
    "java_code = \"\"\n",
    "while True:\n",
    "    try:\n",
    "        line = input()\n",
    "        if line.strip() == \"\":  # Stop input on empty line\n",
    "            break\n",
    "        java_code += line + \"\\n\"\n",
    "    except EOFError:\n",
    "        break\n",
    "\n",
    "# Predict readability score using ML model\n",
    "numerical_score = predict_readability(java_code)\n",
    "\n",
    "# Get readability classification & score from Groq Llama 3\n",
    "score = classify_readability_with_llama(java_code)\n",
    "\n",
    "# Compute final weighted score\n",
    "final_score = compute_final_score(numerical_score, score)\n",
    "print(f\"Readability Score: {final_score}/5\")"
   ]
  },
  {
   "cell_type": "code",
   "execution_count": null,
   "metadata": {},
   "outputs": [],
   "source": []
  }
 ],
 "metadata": {
  "kernelspec": {
   "display_name": "Python 3",
   "language": "python",
   "name": "python3"
  },
  "language_info": {
   "codemirror_mode": {
    "name": "ipython",
    "version": 3
   },
   "file_extension": ".py",
   "mimetype": "text/x-python",
   "name": "python",
   "nbconvert_exporter": "python",
   "pygments_lexer": "ipython3",
   "version": "3.12.0"
  }
 },
 "nbformat": 4,
 "nbformat_minor": 2
}
